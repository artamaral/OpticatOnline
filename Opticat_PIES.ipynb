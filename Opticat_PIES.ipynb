{
  "nbformat": 4,
  "nbformat_minor": 0,
  "metadata": {
    "colab": {
      "provenance": [],
      "authorship_tag": "ABX9TyNISxMe4zOElDnK8glrvflL",
      "include_colab_link": true
    },
    "kernelspec": {
      "name": "python3",
      "display_name": "Python 3"
    },
    "language_info": {
      "name": "python"
    }
  },
  "cells": [
    {
      "cell_type": "markdown",
      "metadata": {
        "id": "view-in-github",
        "colab_type": "text"
      },
      "source": [
        "<a href=\"https://colab.research.google.com/github/artamaral/OpticatOnline/blob/master/Opticat_PIES.ipynb\" target=\"_parent\"><img src=\"https://colab.research.google.com/assets/colab-badge.svg\" alt=\"Open In Colab\"/></a>"
      ]
    },
    {
      "cell_type": "code",
      "source": [
        "import json\n",
        "import requests\n",
        "import pandas as pd"
      ],
      "metadata": {
        "id": "ysxYo4HOvXCy"
      },
      "execution_count": null,
      "outputs": []
    },
    {
      "cell_type": "markdown",
      "source": [
        "#Need to generete curl before to run to update headers\n",
        "1 logging\n",
        "\n",
        "2 look for a specific pn\n",
        "\n",
        "3 copy curl"
      ],
      "metadata": {
        "id": "_YPVb1bm46VV"
      }
    },
    {
      "cell_type": "code",
      "execution_count": null,
      "metadata": {
        "id": "oX-v3z_CtvdP"
      },
      "outputs": [],
      "source": [
        "def newItem(pn):\n",
        "  headers = {\n",
        "      'accept': 'application/json, text/plain, */*',\n",
        "      'accept-language': 'pt-BR,pt;q=0.9,en-US;q=0.8,en;q=0.7',\n",
        "      'content-type': 'application/json',\n",
        "      'origin': 'https://web.tecalliance.net',\n",
        "      'priority': 'u=1, i',\n",
        "      'referer': 'https://web.tecalliance.net/',\n",
        "      'sec-ch-ua': '\"Chromium\";v=\"128\", \"Not;A=Brand\";v=\"24\", \"Google Chrome\";v=\"128\"',\n",
        "      'sec-ch-ua-mobile': '?0',\n",
        "      'sec-ch-ua-platform': '\"Windows\"',\n",
        "      'sec-fetch-dest': 'empty',\n",
        "      'sec-fetch-mode': 'cors',\n",
        "      'sec-fetch-site': 'cross-site',\n",
        "      'user-agent': 'Mozilla/5.0 (Windows NT 10.0; Win64; x64) AppleWebKit/537.36 (KHTML, like Gecko) Chrome/128.0.0.0 Safari/537.36',\n",
        "      'x-api-key': '2BeBXg6DZsG5EhoE8dy18zrf9ieWU3JSCxFk2N4M2NEjoCRxfLgH',\n",
        "      'x-catalog': 'BMW63A8UhKQ7KKNh5vRXs',\n",
        "      'x-log-tracking-id': '89a548c6-f04f-43b8-ac5d-7a0506d7a2bb',\n",
        "  }\n",
        "\n",
        "  json_data = {\n",
        "      'getAutoCarePartDetails': {\n",
        "          'brandCode': 'BBZH',\n",
        "          'partNumber': pn,\n",
        "      },\n",
        "  }\n",
        "\n",
        "  response = requests.post(\n",
        "      'https://webservice.opticatonline.com/autocare/v1/services/Catalog.jsonEndpoint',\n",
        "      headers=headers,\n",
        "      json=json_data,\n",
        "  )\n",
        "  return response\n",
        "  # Note: json_data will not be serialized by requests\n",
        "  # exactly as it was in the original request.\n",
        "  #data = '{\"getAutoCarePartDetails\":{\"brandCode\":\"BBZH\",\"partNumber\":\"07-233\"}}'\n",
        "  #response = requests.post(\n",
        "  #    'https://webservice.opticatonline.com/autocare/v1/services/Catalog.jsonEndpoint',\n",
        "  #    headers=headers,\n",
        "  #    data=data,\n",
        "  #)"
      ]
    },
    {
      "cell_type": "markdown",
      "source": [
        "Open the file that have all partnumbers"
      ],
      "metadata": {
        "id": "EvziT5FT5WfU"
      }
    },
    {
      "cell_type": "code",
      "source": [
        "# prompt: open a csv file as a list\n",
        "\n",
        "import csv\n",
        "\n",
        "def open_csv_as_list(filename):\n",
        "  \"\"\"Opens a CSV file and returns its contents as a list of lists.\"\"\"\n",
        "  with open(filename, 'r') as csvfile:\n",
        "    reader = csv.reader(csvfile)\n",
        "    return list(reader)\n",
        "\n",
        "# Example usage:\n",
        "# my_list = open_csv_as_list('my_file.csv')\n",
        "# print(my_list)"
      ],
      "metadata": {
        "id": "eSpnb5qUxQKT"
      },
      "execution_count": null,
      "outputs": []
    },
    {
      "cell_type": "code",
      "source": [
        "csvData = open_csv_as_list('/content/untitled')"
      ],
      "metadata": {
        "id": "kIEALNFrxU7z"
      },
      "execution_count": null,
      "outputs": []
    },
    {
      "cell_type": "markdown",
      "source": [
        "Make sure that in all the fields have data, other wise it wiil fail. So use try except."
      ],
      "metadata": {
        "id": "IFqX3fAp5r7f"
      }
    },
    {
      "cell_type": "code",
      "source": [
        "list_data = []\n",
        "for pn in csvData:\n",
        "\n",
        "  pn = str(pn).replace('[', '').replace(']', '').replace(\"'\", '')\n",
        "  response = newItem(pn)\n",
        "  data = json.loads(response.text)\n",
        "  try:\n",
        "    opticat_data = {\n",
        "        \"request\": response.status_code,\n",
        "        \"pn Request\": pn,\n",
        "        \"pn Get\":data['piesItem']['partInterchanges'][0]['partNumber']\n",
        "          }\n",
        "  except:\n",
        "    opticat_data = {\n",
        "        \"request\": response.status_code,\n",
        "        \"pn Request\": pn,\n",
        "        \"pn Get\": \"None\"\n",
        "          }\n",
        "  list_data.append(opticat_data)\n",
        "  print(opticat_data)"
      ],
      "metadata": {
        "id": "eSXz460yxcMp"
      },
      "execution_count": null,
      "outputs": []
    },
    {
      "cell_type": "markdown",
      "source": [
        "Save as csv"
      ],
      "metadata": {
        "id": "aGfHjQHf50lE"
      }
    },
    {
      "cell_type": "code",
      "source": [
        "allData = pd.DataFrame(list_data)\n",
        "allData.to_csv('PIES_International_LUK2.csv', index=False)"
      ],
      "metadata": {
        "id": "P0jA9z7Q1vBA"
      },
      "execution_count": null,
      "outputs": []
    }
  ]
}